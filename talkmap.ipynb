{
 "cells": [
  {
   "cell_type": "markdown",
   "metadata": {},
   "source": [
    "# Leaflet cluster map of talk locations\n",
    "\n",
    "Run this from the _talks/ directory, which contains .md files of all your talks. This scrapes the location YAML field from each .md file, geolocates it with geopy/Nominatim, and uses the getorg library to output data, HTML, and Javascript for a standalone cluster map."
   ]
  },
  {
   "cell_type": "code",
   "execution_count": 1,
   "metadata": {},
   "outputs": [
    {
     "name": "stdout",
     "output_type": "stream",
     "text": [
      "Requirement already satisfied: getorg in d:\\programs\\anaconda3\\lib\\site-packages (0.3.1)\n",
      "Requirement already satisfied: pygithub in d:\\programs\\anaconda3\\lib\\site-packages (from getorg) (1.54.1)\n",
      "Requirement already satisfied: retrying in d:\\programs\\anaconda3\\lib\\site-packages (from getorg) (1.3.3)\n",
      "Requirement already satisfied: geopy in d:\\programs\\anaconda3\\lib\\site-packages (from getorg) (2.1.0)\n",
      "Requirement already satisfied: geographiclib<2,>=1.49 in d:\\programs\\anaconda3\\lib\\site-packages (from geopy->getorg) (1.50)\n",
      "Requirement already satisfied: requests>=2.14.0 in d:\\programs\\anaconda3\\lib\\site-packages (from pygithub->getorg) (2.25.1)\n",
      "Requirement already satisfied: pyjwt<2.0 in d:\\programs\\anaconda3\\lib\\site-packages (from pygithub->getorg) (1.7.1)\n",
      "Requirement already satisfied: deprecated in d:\\programs\\anaconda3\\lib\\site-packages (from pygithub->getorg) (1.2.11)\n",
      "Requirement already satisfied: chardet<5,>=3.0.2 in d:\\programs\\anaconda3\\lib\\site-packages (from requests>=2.14.0->pygithub->getorg) (4.0.0)\n",
      "Requirement already satisfied: urllib3<1.27,>=1.21.1 in d:\\programs\\anaconda3\\lib\\site-packages (from requests>=2.14.0->pygithub->getorg) (1.26.2)\n",
      "Requirement already satisfied: idna<3,>=2.5 in d:\\programs\\anaconda3\\lib\\site-packages (from requests>=2.14.0->pygithub->getorg) (2.10)\n",
      "Requirement already satisfied: certifi>=2017.4.17 in d:\\programs\\anaconda3\\lib\\site-packages (from requests>=2.14.0->pygithub->getorg) (2020.12.5)\n",
      "Requirement already satisfied: wrapt<2,>=1.10 in d:\\programs\\anaconda3\\lib\\site-packages (from deprecated->pygithub->getorg) (1.11.2)\n",
      "Requirement already satisfied: six>=1.7.0 in d:\\programs\\anaconda3\\lib\\site-packages (from retrying->getorg) (1.15.0)\n",
      "Iywidgets and ipyleaflet support disabled. You must be in a Jupyter notebook to use this feature.\n",
      "Error raised:\n",
      "No module named 'ipyleaflet'\n",
      "Check that you have enabled ipyleaflet in Jupyter with:\n",
      "    jupyter nbextension enable --py ipyleaflet\n"
     ]
    }
   ],
   "source": [
    "!pip install getorg --upgrade\n",
    "import glob\n",
    "import getorg\n",
    "from geopy import Nominatim"
   ]
  },
  {
   "cell_type": "code",
   "execution_count": 20,
   "metadata": {},
   "outputs": [],
   "source": [
    "g = glob.glob(\"_talks/*.md\")"
   ]
  },
  {
   "cell_type": "code",
   "execution_count": 3,
   "metadata": {
    "scrolled": true
   },
   "outputs": [],
   "source": [
    "geocoder = Nominatim(user_agent=\"krharrison.github.io\")\n",
    "location_dict = {}\n",
    "location = \"\"\n",
    "permalink = \"\"\n",
    "title = \"\""
   ]
  },
  {
   "cell_type": "code",
   "execution_count": 9,
   "metadata": {
    "scrolled": true
   },
   "outputs": [
    {
     "data": {
      "text/plain": [
       "Location(Canberra, District of Canberra Central, Australian Capital Territory, 2601, Australia, (-35.2975906, 149.1012676, 0.0))"
      ]
     },
     "execution_count": 9,
     "metadata": {},
     "output_type": "execute_result"
    }
   ],
   "source": [
    "geocoder.geocode('Canberra, Australia')"
   ]
  },
  {
   "cell_type": "code",
   "execution_count": 23,
   "metadata": {},
   "outputs": [
    {
     "name": "stdout",
     "output_type": "stream",
     "text": [
      "Pretoria, South Africa \n",
      " Pretoria, City of Tshwane Metropolitan Municipality, Gauteng, 0126, South Africa\n",
      "St. Catharines, Canada \n",
      " St. Catharines, Niagara Region, Golden Horseshoe, Ontario, Canada\n",
      "St. Catharines, Canada \n",
      " St. Catharines, Niagara Region, Golden Horseshoe, Ontario, Canada\n",
      "Ostrava, Czech Republic \n",
      " Ostrava, okres Ostrava-město, Moravskoslezský kraj, Moravskoslezsko, Česko\n",
      "Canberra, Australia \n",
      " Canberra, District of Canberra Central, Australian Capital Territory, 2601, Australia\n",
      "Canberra, Australia \n",
      " Canberra, District of Canberra Central, Australian Capital Territory, 2601, Australia\n"
     ]
    }
   ],
   "source": [
    "\n",
    "for file in g:\n",
    "    with open(file, 'r') as f:\n",
    "        lines = f.read()\n",
    "        if lines.find('location: \"') > 1:\n",
    "            loc_start = lines.find('location: \"') + 11\n",
    "            lines_trim = lines[loc_start:]\n",
    "            loc_end = lines_trim.find('\"')\n",
    "            location = lines_trim[:loc_end]\n",
    "                            \n",
    "           \n",
    "        location_dict[location] = geocoder.geocode(location)\n",
    "        print(location, \"\\n\", location_dict[location])\n"
   ]
  },
  {
   "cell_type": "code",
   "execution_count": 24,
   "metadata": {},
   "outputs": [
    {
     "data": {
      "text/plain": [
       "'Written map to talkmap/'"
      ]
     },
     "execution_count": 24,
     "metadata": {},
     "output_type": "execute_result"
    }
   ],
   "source": [
    "m = getorg.orgmap.create_map_obj()\n",
    "getorg.orgmap.output_html_cluster_map(location_dict, folder_name=\"talkmap\", hashed_usernames=False)"
   ]
  },
  {
   "cell_type": "code",
   "execution_count": null,
   "metadata": {},
   "outputs": [],
   "source": []
  }
 ],
 "metadata": {
  "anaconda-cloud": {},
  "kernelspec": {
   "display_name": "Python 3",
   "language": "python",
   "name": "python3"
  },
  "language_info": {
   "codemirror_mode": {
    "name": "ipython",
    "version": 3
   },
   "file_extension": ".py",
   "mimetype": "text/x-python",
   "name": "python",
   "nbconvert_exporter": "python",
   "pygments_lexer": "ipython3",
   "version": "3.7.9"
  }
 },
 "nbformat": 4,
 "nbformat_minor": 1
}
